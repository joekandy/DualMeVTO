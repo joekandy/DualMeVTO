{
 "cells": [
  {
   "cell_type": "code",
   "execution_count": 2,
   "id": "00502a09-b495-4e82-9dd2-d84d9bbb3611",
   "metadata": {},
   "outputs": [
    {
     "name": "stdout",
     "output_type": "stream",
     "text": [
      "Cloning into 'Leffa'...\n",
      "remote: Enumerating objects: 1318, done.\u001b[K\n",
      "remote: Counting objects: 100% (15/15), done.\u001b[K\n",
      "remote: Compressing objects: 100% (4/4), done.\u001b[K\n",
      "remote: Total 1318 (delta 14), reused 11 (delta 11), pack-reused 1303 (from 2)\u001b[K\n",
      "Receiving objects: 100% (1318/1318), 1.69 MiB | 5.01 MiB/s, done.\n",
      "Resolving deltas: 100% (480/480), done.\n",
      "Updating files: 100% (854/854), done.\n"
     ]
    }
   ],
   "source": [
    "!git clone https://github.com/franciszzj/Leffa.git"
   ]
  },
  {
   "cell_type": "code",
   "execution_count": 3,
   "id": "bc351966-4b48-42fd-b10e-4a5e05c26068",
   "metadata": {},
   "outputs": [
    {
     "name": "stdout",
     "output_type": "stream",
     "text": [
      "Leffa  Untitled.ipynb\n"
     ]
    }
   ],
   "source": [
    "!ls"
   ]
  },
  {
   "cell_type": "code",
   "execution_count": 4,
   "id": "a9aa4884-9d6f-482f-ad28-96734391a9ae",
   "metadata": {},
   "outputs": [],
   "source": [
    "import os\n",
    "os.chdir('Leffa')"
   ]
  },
  {
   "cell_type": "code",
   "execution_count": null,
   "id": "2fa06627-4e6b-4440-be21-069e226d6753",
   "metadata": {},
   "outputs": [],
   "source": []
  }
 ],
 "metadata": {
  "kernelspec": {
   "display_name": "Python 3 (ipykernel)",
   "language": "python",
   "name": "python3"
  },
  "language_info": {
   "codemirror_mode": {
    "name": "ipython",
    "version": 3
   },
   "file_extension": ".py",
   "mimetype": "text/x-python",
   "name": "python",
   "nbconvert_exporter": "python",
   "pygments_lexer": "ipython3",
   "version": "3.10.12"
  }
 },
 "nbformat": 4,
 "nbformat_minor": 5
}
